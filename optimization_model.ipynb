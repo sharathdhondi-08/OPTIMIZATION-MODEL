{
 "cells": [
  {
   "cell_type": "code",
   "execution_count": 7,
   "id": "ac74c9dd-fbcd-4695-a303-072a31e1e2df",
   "metadata": {},
   "outputs": [
    {
     "name": "stdout",
     "output_type": "stream",
     "text": [
      "📌 Status: Optimal\n",
      "\n",
      "✅ Optimal Production Plan:\n",
      "  Bread: 139.0 units\n",
      "  Donut: 31.0 units\n",
      "  Muffin: 627.0 units\n",
      "\n",
      "💰 Maximum Profit: $26277.713906635985\n",
      "\n",
      "📦 Resource Utilization:\n",
      "  Flour(g): 99393.36/100000 used\n",
      "  Sugar(g): 59980.66/60000 used\n",
      "  Eggs(units): 797.00/1200 used\n",
      "  Butter(g): 29998.98/30000 used\n"
     ]
    }
   ],
   "source": [
    "import pandas as pd\n",
    "import pulp\n",
    "from pulp import LpMaximize, LpProblem, LpVariable, LpStatus, value\n",
    "\n",
    "# Load the CSV\n",
    "df = pd.read_csv(\"bakery_products_5000.csv\")\n",
    "\n",
    "# Group by unique products and take average values (simulate consistent product types)\n",
    "grouped_df = df.groupby(\"Product\").mean().reset_index()\n",
    "\n",
    "# Set resource limits (you can tune these values)\n",
    "resource_limits = {\n",
    "    \"Flour(g)\": 100000,\n",
    "    \"Sugar(g)\": 60000,\n",
    "    \"Eggs(units)\": 1200,\n",
    "    \"Butter(g)\": 30000\n",
    "}\n",
    "\n",
    "# Initialize the model\n",
    "model = LpProblem(\"Bakery_Product_Mix_Optimization\", LpMaximize)\n",
    "\n",
    "# Create decision variables for each unique product\n",
    "product_vars = {\n",
    "    row[\"Product\"]: LpVariable(name=row[\"Product\"], lowBound=0, cat=\"Integer\")\n",
    "    for _, row in grouped_df.iterrows()\n",
    "}\n",
    "\n",
    "# Add the objective function: Maximize profit\n",
    "model += pulp.lpSum(product_vars[row[\"Product\"]] * row[\"Profit\"] for _, row in grouped_df.iterrows()), \"Total_Profit\"\n",
    "\n",
    "# Add resource constraints\n",
    "for resource in resource_limits:\n",
    "    model += (\n",
    "        pulp.lpSum(product_vars[row[\"Product\"]] * row[resource] for _, row in grouped_df.iterrows()) \n",
    "        <= resource_limits[resource], \n",
    "        f\"{resource}_Constraint\"\n",
    "    )\n",
    "\n",
    "# Solve the problem\n",
    "model.solve()\n",
    "\n",
    "# Print the status\n",
    "print(f\"📌 Status: {LpStatus[model.status]}\")\n",
    "\n",
    "# Print optimal quantities for each product\n",
    "print(\"\\n✅ Optimal Production Plan:\")\n",
    "for product in product_vars:\n",
    "    qty = product_vars[product].varValue\n",
    "    if qty > 0:\n",
    "        print(f\"  {product}: {qty} units\")\n",
    "\n",
    "# Print max profit\n",
    "print(f\"\\n💰 Maximum Profit: ${value(model.objective)}\")\n",
    "\n",
    "# Resource usage\n",
    "print(\"\\n📦 Resource Utilization:\")\n",
    "for resource in resource_limits:\n",
    "    used = sum(product_vars[row[\"Product\"]].varValue * row[resource] for _, row in grouped_df.iterrows())\n",
    "    print(f\"  {resource}: {used:.2f}/{resource_limits[resource]} used\")\n"
   ]
  },
  {
   "cell_type": "code",
   "execution_count": 1,
   "id": "047c6302-ccc5-4517-9919-fb21794c896b",
   "metadata": {},
   "outputs": [
    {
     "name": "stdout",
     "output_type": "stream",
     "text": [
      "Collecting pulpNote: you may need to restart the kernel to use updated packages.\n",
      "\n",
      "  Downloading pulp-3.1.1-py3-none-any.whl.metadata (1.3 kB)\n",
      "Downloading pulp-3.1.1-py3-none-any.whl (16.4 MB)\n",
      "   ---------------------------------------- 0.0/16.4 MB ? eta -:--:--\n",
      "    --------------------------------------- 0.3/16.4 MB ? eta -:--:--\n",
      "   -- ------------------------------------- 1.0/16.4 MB 3.0 MB/s eta 0:00:06\n",
      "   ---- ----------------------------------- 1.8/16.4 MB 3.5 MB/s eta 0:00:05\n",
      "   ------- -------------------------------- 3.1/16.4 MB 4.0 MB/s eta 0:00:04\n",
      "   ---------- ----------------------------- 4.5/16.4 MB 4.5 MB/s eta 0:00:03\n",
      "   ------------ --------------------------- 5.2/16.4 MB 4.7 MB/s eta 0:00:03\n",
      "   --------------- ------------------------ 6.3/16.4 MB 4.4 MB/s eta 0:00:03\n",
      "   ----------------- ---------------------- 7.1/16.4 MB 4.5 MB/s eta 0:00:03\n",
      "   ------------------- -------------------- 8.1/16.4 MB 4.4 MB/s eta 0:00:02\n",
      "   --------------------- ------------------ 8.9/16.4 MB 4.4 MB/s eta 0:00:02\n",
      "   ------------------------ --------------- 10.2/16.4 MB 4.5 MB/s eta 0:00:02\n",
      "   ---------------------------- ----------- 11.5/16.4 MB 4.6 MB/s eta 0:00:02\n",
      "   ------------------------------- -------- 12.8/16.4 MB 4.7 MB/s eta 0:00:01\n",
      "   --------------------------------- ------ 13.6/16.4 MB 4.7 MB/s eta 0:00:01\n",
      "   ----------------------------------- ---- 14.7/16.4 MB 4.7 MB/s eta 0:00:01\n",
      "   ---------------------------------------  16.0/16.4 MB 4.8 MB/s eta 0:00:01\n",
      "   ---------------------------------------- 16.4/16.4 MB 4.7 MB/s eta 0:00:00\n",
      "Installing collected packages: pulp\n",
      "Successfully installed pulp-3.1.1\n"
     ]
    }
   ],
   "source": [
    "pip install pulp"
   ]
  },
  {
   "cell_type": "code",
   "execution_count": null,
   "id": "0ebcbe58-ad25-42e4-9e53-880d8b448347",
   "metadata": {},
   "outputs": [],
   "source": []
  }
 ],
 "metadata": {
  "kernelspec": {
   "display_name": "Python 3 (ipykernel)",
   "language": "python",
   "name": "python3"
  },
  "language_info": {
   "codemirror_mode": {
    "name": "ipython",
    "version": 3
   },
   "file_extension": ".py",
   "mimetype": "text/x-python",
   "name": "python",
   "nbconvert_exporter": "python",
   "pygments_lexer": "ipython3",
   "version": "3.12.7"
  }
 },
 "nbformat": 4,
 "nbformat_minor": 5
}
